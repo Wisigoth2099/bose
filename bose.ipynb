{
  "cells": [
    {
      "cell_type": "code",
      "source": [
        "!pip install sklearn"
      ],
      "metadata": {
        "colab": {
          "base_uri": "https://localhost:8080/"
        },
        "id": "huxuLmtaGTFW",
        "outputId": "b19cac43-9b37-452b-f6f7-0d4b59b0526a"
      },
      "id": "huxuLmtaGTFW",
      "execution_count": null,
      "outputs": [
        {
          "output_type": "stream",
          "name": "stdout",
          "text": [
            "Requirement already satisfied: sklearn in /usr/local/lib/python3.7/dist-packages (0.0)\n",
            "Requirement already satisfied: scikit-learn in /usr/local/lib/python3.7/dist-packages (from sklearn) (1.0.2)\n",
            "Requirement already satisfied: threadpoolctl>=2.0.0 in /usr/local/lib/python3.7/dist-packages (from scikit-learn->sklearn) (3.1.0)\n",
            "Requirement already satisfied: joblib>=0.11 in /usr/local/lib/python3.7/dist-packages (from scikit-learn->sklearn) (1.1.0)\n",
            "Requirement already satisfied: numpy>=1.14.6 in /usr/local/lib/python3.7/dist-packages (from scikit-learn->sklearn) (1.21.5)\n",
            "Requirement already satisfied: scipy>=1.1.0 in /usr/local/lib/python3.7/dist-packages (from scikit-learn->sklearn) (1.4.1)\n"
          ]
        }
      ]
    },
    {
      "cell_type": "code",
      "source": [
        "from google.colab import drive\n",
        "drive.mount('/content/drive')"
      ],
      "metadata": {
        "colab": {
          "base_uri": "https://localhost:8080/"
        },
        "id": "fVLU1DP79Xx_",
        "outputId": "7b290198-199b-4a52-879c-f5b3f96e7c04"
      },
      "id": "fVLU1DP79Xx_",
      "execution_count": null,
      "outputs": [
        {
          "output_type": "stream",
          "name": "stdout",
          "text": [
            "Drive already mounted at /content/drive; to attempt to forcibly remount, call drive.mount(\"/content/drive\", force_remount=True).\n"
          ]
        }
      ]
    },
    {
      "cell_type": "code",
      "execution_count": null,
      "id": "a6194a26",
      "metadata": {
        "id": "a6194a26"
      },
      "outputs": [],
      "source": [
        "import pandas as pd"
      ]
    },
    {
      "cell_type": "code",
      "execution_count": null,
      "id": "7776a576",
      "metadata": {
        "id": "7776a576"
      },
      "outputs": [],
      "source": [
        "pd_enceinte=pd.read_csv(\"/content/drive/MyDrive/HETIC/AI_strategy_bose/finaldf_g.csv\",delimiter=',')\n",
        "pd_enceinte.drop([\"Unnamed: 0\"],axis=1,inplace=True)"
      ]
    },
    {
      "cell_type": "markdown",
      "id": "e2f7ec60",
      "metadata": {
        "id": "e2f7ec60"
      },
      "source": [
        "# FEATURES:"
      ]
    },
    {
      "cell_type": "code",
      "execution_count": null,
      "id": "17970c28",
      "metadata": {
        "id": "17970c28"
      },
      "outputs": [],
      "source": [
        "pd_enceinte[\"COST\"]=round(pd_enceinte[\"COST\"],0)"
      ]
    },
    {
      "cell_type": "code",
      "execution_count": null,
      "id": "fe843c72",
      "metadata": {
        "id": "fe843c72"
      },
      "outputs": [],
      "source": [
        "# Variable cible to 0/1\n",
        "pd_enceinte[\"BLUETOOTH\"] = pd_enceinte[\"BLUETOOTH\"].apply(lambda x: 0 if x == \"faux\" else 1 )\n",
        "pd_enceinte[\"WATERPROOF\"] = pd_enceinte[\"WATERPROOF\"].apply(lambda x: 0 if x == False else 1 )"
      ]
    },
    {
      "cell_type": "code",
      "execution_count": null,
      "id": "2b0644ed",
      "metadata": {
        "id": "2b0644ed"
      },
      "outputs": [],
      "source": [
        "pd_enceinte[\"PUISSANCE_WATT\"]=pd_enceinte[\"PUISSANCE_WATT\"].replace(\"Watts\",\"\",regex=True)"
      ]
    },
    {
      "cell_type": "code",
      "execution_count": null,
      "id": "427146f3",
      "metadata": {
        "id": "427146f3"
      },
      "outputs": [],
      "source": [
        "pd_enceinte[\"PUISSANCE_WATT\"]=pd_enceinte[\"PUISSANCE_WATT\"].astype(int)"
      ]
    },
    {
      "cell_type": "code",
      "execution_count": null,
      "id": "4fe128a4",
      "metadata": {
        "id": "4fe128a4"
      },
      "outputs": [],
      "source": [
        "pd_enceinte[\"COULEUR\"]=pd_enceinte[\"COULEUR\"].replace(\" or rose\",\"or rose\",regex=True)\n",
        "pd_enceinte[\"COULEUR\"]=pd_enceinte[\"COULEUR\"].replace(\" or beige\",\"or beige\",regex=True)\n",
        "pd_enceinte[\"COULEUR\"]=pd_enceinte[\"COULEUR\"].replace(\"or rose\",\"or\",regex=True)\n",
        "pd_enceinte[\"COULEUR\"]=pd_enceinte[\"COULEUR\"].replace(\"or chromé\",\"or\",regex=True)\n",
        "pd_enceinte[\"COULEUR\"]=pd_enceinte[\"COULEUR\"].replace(\"or doré\",\"or\",regex=True)\n",
        "pd_enceinte[\"COULEUR\"]=pd_enceinte[\"COULEUR\"].replace(\"or bleu\",\"or\",regex=True)\n",
        "pd_enceinte[\"COULEUR\"]=pd_enceinte[\"COULEUR\"].replace(\"or beige\",\"or\",regex=True)\n",
        "pd_enceinte[\"COULEUR\"]=pd_enceinte[\"COULEUR\"].replace(\"or noir\",\"or\",regex=True)\n",
        "pd_enceinte[\"COULEUR\"]=pd_enceinte[\"COULEUR\"].replace(\"argent bleu\",\"argent\",regex=True)\n",
        "pd_enceinte[\"COULEUR\"]=pd_enceinte[\"COULEUR\"].replace(\"argent rouge\",\"argent\",regex=True)\n",
        "pd_enceinte[\"COULEUR\"]=pd_enceinte[\"COULEUR\"].replace(\"argent noir\",\"argent\",regex=True)\n",
        "pd_enceinte[\"COULEUR\"]=pd_enceinte[\"COULEUR\"].replace(\"vert clair\",\"vert\",regex=True)\n",
        "pd_enceinte[\"COULEUR\"]=pd_enceinte[\"COULEUR\"].replace(\"bleu marine\",\"bleu\",regex=True)"
      ]
    },
    {
      "cell_type": "code",
      "execution_count": null,
      "id": "90fa2a2f",
      "metadata": {
        "id": "90fa2a2f"
      },
      "outputs": [],
      "source": [
        "pd_enceinte[\"PAYS\"]=pd_enceinte[\"PAYS\"].replace(\"allemagne\",\"europe\",regex=True)\n",
        "pd_enceinte[\"PAYS\"]=pd_enceinte[\"PAYS\"].replace(\"roumanie\",\"europe\",regex=True)\n",
        "pd_enceinte[\"PAYS\"]=pd_enceinte[\"PAYS\"].replace(\"france\",\"europe\",regex=True)\n",
        "pd_enceinte[\"PAYS\"]=pd_enceinte[\"PAYS\"].replace(\"italie\",\"europe\",regex=True)\n",
        "pd_enceinte[\"PAYS\"]=pd_enceinte[\"PAYS\"].replace(\"philippine\",\"asie\",regex=True)\n",
        "pd_enceinte[\"PAYS\"]=pd_enceinte[\"PAYS\"].replace(\"malaisie\",\"asie\",regex=True)\n",
        "pd_enceinte[\"PAYS\"]=pd_enceinte[\"PAYS\"].replace(\"indonésie\",\"asie\",regex=True)\n",
        "pd_enceinte[\"PAYS\"]=pd_enceinte[\"PAYS\"].replace(\"chine\",\"asie\",regex=True)\n",
        "pd_enceinte[\"PAYS\"]=pd_enceinte[\"PAYS\"].replace(\"japon\",\"asie\",regex=True)\n",
        "pd_enceinte[\"PAYS\"]=pd_enceinte[\"PAYS\"].replace(\"turquie\",\"asie\",regex=True)\n",
        "pd_enceinte[\"PAYS\"]=pd_enceinte[\"PAYS\"].replace(\"soudan\",\"afrique\",regex=True)\n",
        "pd_enceinte[\"PAYS\"]=pd_enceinte[\"PAYS\"].replace(\"congo\",\"afrique\",regex=True)\n",
        "pd_enceinte[\"PAYS\"]=pd_enceinte[\"PAYS\"].replace(\"benin\",\"afrique\",regex=True)\n",
        "pd_enceinte[\"PAYS\"]=pd_enceinte[\"PAYS\"].replace(\"afrique du sud\",\"afrique\",regex=True)\n",
        "pd_enceinte[\"PAYS\"]=pd_enceinte[\"PAYS\"].replace(\"gabon\",\"afrique\",regex=True)\n",
        "pd_enceinte[\"PAYS\"]=pd_enceinte[\"PAYS\"].replace(\"togo\",\"afrique\",regex=True)\n",
        "pd_enceinte[\"PAYS\"]=pd_enceinte[\"PAYS\"].replace(\"colombie\",\"amérique\",regex=True)\n",
        "pd_enceinte[\"PAYS\"]=pd_enceinte[\"PAYS\"].replace(\"chili\",\"amérique\",regex=True)\n",
        "pd_enceinte[\"PAYS\"]=pd_enceinte[\"PAYS\"].replace(\"argentine\",\"amérique\",regex=True)\n",
        "pd_enceinte[\"PAYS\"]=pd_enceinte[\"PAYS\"].replace(\"brésil\",\"amérique\",regex=True)\n",
        "pd_enceinte[\"PAYS\"]=pd_enceinte[\"PAYS\"].replace(\"usa\",\"amérique\",regex=True)\n",
        "pd_enceinte[\"PAYS\"]=pd_enceinte[\"PAYS\"].replace(\"mexique\",\"amérique\",regex=True)\n",
        "pd_enceinte[\"PAYS\"]=pd_enceinte[\"PAYS\"].replace(\"salvador\",\"amérique\",regex=True)"
      ]
    },
    {
      "cell_type": "code",
      "execution_count": null,
      "id": "816bdb20",
      "metadata": {
        "id": "816bdb20",
        "outputId": "c24b425d-a529-4542-d512-ad14a0f03e81",
        "colab": {
          "base_uri": "https://localhost:8080/"
        }
      },
      "outputs": [
        {
          "output_type": "execute_result",
          "data": {
            "text/plain": [
              "asie        28299\n",
              "afrique     24304\n",
              "amérique    24118\n",
              "europe      20128\n",
              "Name: PAYS, dtype: int64"
            ]
          },
          "metadata": {},
          "execution_count": 11
        }
      ],
      "source": [
        "pd_enceinte[\"PAYS\"].value_counts()"
      ]
    },
    {
      "cell_type": "code",
      "execution_count": null,
      "id": "38ddb08c",
      "metadata": {
        "id": "38ddb08c"
      },
      "outputs": [],
      "source": [
        "pd_enceinte.drop(\"LONGUEUR (inch)\",axis=1,inplace=True)"
      ]
    },
    {
      "cell_type": "code",
      "execution_count": null,
      "id": "57d73930",
      "metadata": {
        "id": "57d73930"
      },
      "outputs": [],
      "source": [
        "from sklearn import preprocessing\n",
        "le = preprocessing.LabelEncoder()\n",
        "le.fit(pd_enceinte.FOURNISSEUR)\n",
        "pd_enceinte.FOURNISSEUR=le.transform(pd_enceinte.FOURNISSEUR)"
      ]
    },
    {
      "cell_type": "code",
      "execution_count": null,
      "id": "795f816a",
      "metadata": {
        "id": "795f816a"
      },
      "outputs": [],
      "source": [
        "\n",
        "pd_enceinte = pd.concat([pd_enceinte,pd.get_dummies(pd_enceinte[\"PAYS\"])], axis=1)\n",
        "pd_enceinte = pd.concat([pd_enceinte,pd.get_dummies(pd_enceinte[\"RESPONSABLE_ACHAT\"])], axis=1)\n",
        "#pd_enceinte = pd.concat([pd_enceinte,pd.get_dummies(pd_enceinte[\"FOURNISSEUR\"])], axis=1)\n",
        "pd_enceinte = pd.concat([pd_enceinte,pd.get_dummies(pd_enceinte[\"COULEUR\"])], axis=1)\n",
        "pd_enceinte = pd.concat([pd_enceinte,pd.get_dummies(pd_enceinte[\"MANAGER\"])], axis=1)"
      ]
    },
    {
      "cell_type": "code",
      "execution_count": null,
      "id": "aed19320",
      "metadata": {
        "id": "aed19320"
      },
      "outputs": [],
      "source": [
        "pd_enceinte.drop(\"PAYS\",axis=1,inplace=True)\n",
        "pd_enceinte.drop(\"RESPONSABLE_ACHAT\",axis=1,inplace=True)\n",
        "#pd_enceinte.drop(\"FOURNISSEUR\",axis=1,inplace=True)\n",
        "pd_enceinte.drop(\"COULEUR\",axis=1,inplace=True)\n",
        "pd_enceinte.drop(\"MANAGER\",axis=1,inplace=True)"
      ]
    },
    {
      "cell_type": "code",
      "execution_count": null,
      "id": "9f03d619",
      "metadata": {
        "id": "9f03d619",
        "outputId": "27822882-bbbc-48a3-c01e-9be8eae5382b",
        "colab": {
          "base_uri": "https://localhost:8080/",
          "height": 505
        }
      },
      "outputs": [
        {
          "output_type": "execute_result",
          "data": {
            "text/plain": [
              "       PUISSANCE_WATT  BLUETOOTH  PUISSANCE_DB  LONGUEUR  FOURNISSEUR  \\\n",
              "0                  33          1            95        60            8   \n",
              "1                  96          0            95        40           22   \n",
              "2                 187          1            90        40           13   \n",
              "3                  68          1            90        70           21   \n",
              "4                  86          1           100        40           13   \n",
              "...               ...        ...           ...       ...          ...   \n",
              "96844             151          1            95        30            8   \n",
              "96845             103          0            90        10            7   \n",
              "96846             171          1            90        70            9   \n",
              "96847             150          0            90        60           28   \n",
              "96848             145          0            90        70            8   \n",
              "\n",
              "        VOLUME     COST  WATERPROOF  DATE  afrique  ...  bleu  cyan  magenta  \\\n",
              "0      42135.0   5070.0           1  2018        0  ...     1     0        0   \n",
              "1      38758.0   4651.0           0  2018        0  ...     0     0        0   \n",
              "2      75739.0  13352.0           1  2021        0  ...     0     0        0   \n",
              "3      71264.0  11719.0           1  2020        1  ...     0     0        0   \n",
              "4      87145.0  13194.0           0  2021        0  ...     0     0        0   \n",
              "...        ...      ...         ...   ...      ...  ...   ...   ...      ...   \n",
              "96844  66571.0  10074.0           0  2021        0  ...     0     0        0   \n",
              "96845  60791.0   4831.0           1  2018        0  ...     0     0        0   \n",
              "96846  65064.0  10986.0           0  2018        0  ...     0     0        0   \n",
              "96847  78450.0  11311.0           0  2021        0  ...     1     0        0   \n",
              "96848  98039.0  12612.0           1  2018        1  ...     1     0        0   \n",
              "\n",
              "       noir  or  orange  rouge  vert  Cédric Grivet  Pierre L'Hostis  \n",
              "0         0   0       0      0     0              0                1  \n",
              "1         0   1       0      0     0              0                1  \n",
              "2         0   1       0      0     0              0                1  \n",
              "3         0   1       0      0     0              1                0  \n",
              "4         0   0       0      0     0              0                1  \n",
              "...     ...  ..     ...    ...   ...            ...              ...  \n",
              "96844     0   0       0      0     0              0                1  \n",
              "96845     1   0       0      0     0              1                0  \n",
              "96846     0   0       0      0     0              0                1  \n",
              "96847     0   0       0      0     0              0                1  \n",
              "96848     0   0       0      0     0              0                1  \n",
              "\n",
              "[96849 rows x 28 columns]"
            ],
            "text/html": [
              "\n",
              "  <div id=\"df-d6ed76ab-d5f1-44a5-83e2-6c7af919213c\">\n",
              "    <div class=\"colab-df-container\">\n",
              "      <div>\n",
              "<style scoped>\n",
              "    .dataframe tbody tr th:only-of-type {\n",
              "        vertical-align: middle;\n",
              "    }\n",
              "\n",
              "    .dataframe tbody tr th {\n",
              "        vertical-align: top;\n",
              "    }\n",
              "\n",
              "    .dataframe thead th {\n",
              "        text-align: right;\n",
              "    }\n",
              "</style>\n",
              "<table border=\"1\" class=\"dataframe\">\n",
              "  <thead>\n",
              "    <tr style=\"text-align: right;\">\n",
              "      <th></th>\n",
              "      <th>PUISSANCE_WATT</th>\n",
              "      <th>BLUETOOTH</th>\n",
              "      <th>PUISSANCE_DB</th>\n",
              "      <th>LONGUEUR</th>\n",
              "      <th>FOURNISSEUR</th>\n",
              "      <th>VOLUME</th>\n",
              "      <th>COST</th>\n",
              "      <th>WATERPROOF</th>\n",
              "      <th>DATE</th>\n",
              "      <th>afrique</th>\n",
              "      <th>...</th>\n",
              "      <th>bleu</th>\n",
              "      <th>cyan</th>\n",
              "      <th>magenta</th>\n",
              "      <th>noir</th>\n",
              "      <th>or</th>\n",
              "      <th>orange</th>\n",
              "      <th>rouge</th>\n",
              "      <th>vert</th>\n",
              "      <th>Cédric Grivet</th>\n",
              "      <th>Pierre L'Hostis</th>\n",
              "    </tr>\n",
              "  </thead>\n",
              "  <tbody>\n",
              "    <tr>\n",
              "      <th>0</th>\n",
              "      <td>33</td>\n",
              "      <td>1</td>\n",
              "      <td>95</td>\n",
              "      <td>60</td>\n",
              "      <td>8</td>\n",
              "      <td>42135.0</td>\n",
              "      <td>5070.0</td>\n",
              "      <td>1</td>\n",
              "      <td>2018</td>\n",
              "      <td>0</td>\n",
              "      <td>...</td>\n",
              "      <td>1</td>\n",
              "      <td>0</td>\n",
              "      <td>0</td>\n",
              "      <td>0</td>\n",
              "      <td>0</td>\n",
              "      <td>0</td>\n",
              "      <td>0</td>\n",
              "      <td>0</td>\n",
              "      <td>0</td>\n",
              "      <td>1</td>\n",
              "    </tr>\n",
              "    <tr>\n",
              "      <th>1</th>\n",
              "      <td>96</td>\n",
              "      <td>0</td>\n",
              "      <td>95</td>\n",
              "      <td>40</td>\n",
              "      <td>22</td>\n",
              "      <td>38758.0</td>\n",
              "      <td>4651.0</td>\n",
              "      <td>0</td>\n",
              "      <td>2018</td>\n",
              "      <td>0</td>\n",
              "      <td>...</td>\n",
              "      <td>0</td>\n",
              "      <td>0</td>\n",
              "      <td>0</td>\n",
              "      <td>0</td>\n",
              "      <td>1</td>\n",
              "      <td>0</td>\n",
              "      <td>0</td>\n",
              "      <td>0</td>\n",
              "      <td>0</td>\n",
              "      <td>1</td>\n",
              "    </tr>\n",
              "    <tr>\n",
              "      <th>2</th>\n",
              "      <td>187</td>\n",
              "      <td>1</td>\n",
              "      <td>90</td>\n",
              "      <td>40</td>\n",
              "      <td>13</td>\n",
              "      <td>75739.0</td>\n",
              "      <td>13352.0</td>\n",
              "      <td>1</td>\n",
              "      <td>2021</td>\n",
              "      <td>0</td>\n",
              "      <td>...</td>\n",
              "      <td>0</td>\n",
              "      <td>0</td>\n",
              "      <td>0</td>\n",
              "      <td>0</td>\n",
              "      <td>1</td>\n",
              "      <td>0</td>\n",
              "      <td>0</td>\n",
              "      <td>0</td>\n",
              "      <td>0</td>\n",
              "      <td>1</td>\n",
              "    </tr>\n",
              "    <tr>\n",
              "      <th>3</th>\n",
              "      <td>68</td>\n",
              "      <td>1</td>\n",
              "      <td>90</td>\n",
              "      <td>70</td>\n",
              "      <td>21</td>\n",
              "      <td>71264.0</td>\n",
              "      <td>11719.0</td>\n",
              "      <td>1</td>\n",
              "      <td>2020</td>\n",
              "      <td>1</td>\n",
              "      <td>...</td>\n",
              "      <td>0</td>\n",
              "      <td>0</td>\n",
              "      <td>0</td>\n",
              "      <td>0</td>\n",
              "      <td>1</td>\n",
              "      <td>0</td>\n",
              "      <td>0</td>\n",
              "      <td>0</td>\n",
              "      <td>1</td>\n",
              "      <td>0</td>\n",
              "    </tr>\n",
              "    <tr>\n",
              "      <th>4</th>\n",
              "      <td>86</td>\n",
              "      <td>1</td>\n",
              "      <td>100</td>\n",
              "      <td>40</td>\n",
              "      <td>13</td>\n",
              "      <td>87145.0</td>\n",
              "      <td>13194.0</td>\n",
              "      <td>0</td>\n",
              "      <td>2021</td>\n",
              "      <td>0</td>\n",
              "      <td>...</td>\n",
              "      <td>0</td>\n",
              "      <td>0</td>\n",
              "      <td>0</td>\n",
              "      <td>0</td>\n",
              "      <td>0</td>\n",
              "      <td>0</td>\n",
              "      <td>0</td>\n",
              "      <td>0</td>\n",
              "      <td>0</td>\n",
              "      <td>1</td>\n",
              "    </tr>\n",
              "    <tr>\n",
              "      <th>...</th>\n",
              "      <td>...</td>\n",
              "      <td>...</td>\n",
              "      <td>...</td>\n",
              "      <td>...</td>\n",
              "      <td>...</td>\n",
              "      <td>...</td>\n",
              "      <td>...</td>\n",
              "      <td>...</td>\n",
              "      <td>...</td>\n",
              "      <td>...</td>\n",
              "      <td>...</td>\n",
              "      <td>...</td>\n",
              "      <td>...</td>\n",
              "      <td>...</td>\n",
              "      <td>...</td>\n",
              "      <td>...</td>\n",
              "      <td>...</td>\n",
              "      <td>...</td>\n",
              "      <td>...</td>\n",
              "      <td>...</td>\n",
              "      <td>...</td>\n",
              "    </tr>\n",
              "    <tr>\n",
              "      <th>96844</th>\n",
              "      <td>151</td>\n",
              "      <td>1</td>\n",
              "      <td>95</td>\n",
              "      <td>30</td>\n",
              "      <td>8</td>\n",
              "      <td>66571.0</td>\n",
              "      <td>10074.0</td>\n",
              "      <td>0</td>\n",
              "      <td>2021</td>\n",
              "      <td>0</td>\n",
              "      <td>...</td>\n",
              "      <td>0</td>\n",
              "      <td>0</td>\n",
              "      <td>0</td>\n",
              "      <td>0</td>\n",
              "      <td>0</td>\n",
              "      <td>0</td>\n",
              "      <td>0</td>\n",
              "      <td>0</td>\n",
              "      <td>0</td>\n",
              "      <td>1</td>\n",
              "    </tr>\n",
              "    <tr>\n",
              "      <th>96845</th>\n",
              "      <td>103</td>\n",
              "      <td>0</td>\n",
              "      <td>90</td>\n",
              "      <td>10</td>\n",
              "      <td>7</td>\n",
              "      <td>60791.0</td>\n",
              "      <td>4831.0</td>\n",
              "      <td>1</td>\n",
              "      <td>2018</td>\n",
              "      <td>0</td>\n",
              "      <td>...</td>\n",
              "      <td>0</td>\n",
              "      <td>0</td>\n",
              "      <td>0</td>\n",
              "      <td>1</td>\n",
              "      <td>0</td>\n",
              "      <td>0</td>\n",
              "      <td>0</td>\n",
              "      <td>0</td>\n",
              "      <td>1</td>\n",
              "      <td>0</td>\n",
              "    </tr>\n",
              "    <tr>\n",
              "      <th>96846</th>\n",
              "      <td>171</td>\n",
              "      <td>1</td>\n",
              "      <td>90</td>\n",
              "      <td>70</td>\n",
              "      <td>9</td>\n",
              "      <td>65064.0</td>\n",
              "      <td>10986.0</td>\n",
              "      <td>0</td>\n",
              "      <td>2018</td>\n",
              "      <td>0</td>\n",
              "      <td>...</td>\n",
              "      <td>0</td>\n",
              "      <td>0</td>\n",
              "      <td>0</td>\n",
              "      <td>0</td>\n",
              "      <td>0</td>\n",
              "      <td>0</td>\n",
              "      <td>0</td>\n",
              "      <td>0</td>\n",
              "      <td>0</td>\n",
              "      <td>1</td>\n",
              "    </tr>\n",
              "    <tr>\n",
              "      <th>96847</th>\n",
              "      <td>150</td>\n",
              "      <td>0</td>\n",
              "      <td>90</td>\n",
              "      <td>60</td>\n",
              "      <td>28</td>\n",
              "      <td>78450.0</td>\n",
              "      <td>11311.0</td>\n",
              "      <td>0</td>\n",
              "      <td>2021</td>\n",
              "      <td>0</td>\n",
              "      <td>...</td>\n",
              "      <td>1</td>\n",
              "      <td>0</td>\n",
              "      <td>0</td>\n",
              "      <td>0</td>\n",
              "      <td>0</td>\n",
              "      <td>0</td>\n",
              "      <td>0</td>\n",
              "      <td>0</td>\n",
              "      <td>0</td>\n",
              "      <td>1</td>\n",
              "    </tr>\n",
              "    <tr>\n",
              "      <th>96848</th>\n",
              "      <td>145</td>\n",
              "      <td>0</td>\n",
              "      <td>90</td>\n",
              "      <td>70</td>\n",
              "      <td>8</td>\n",
              "      <td>98039.0</td>\n",
              "      <td>12612.0</td>\n",
              "      <td>1</td>\n",
              "      <td>2018</td>\n",
              "      <td>1</td>\n",
              "      <td>...</td>\n",
              "      <td>1</td>\n",
              "      <td>0</td>\n",
              "      <td>0</td>\n",
              "      <td>0</td>\n",
              "      <td>0</td>\n",
              "      <td>0</td>\n",
              "      <td>0</td>\n",
              "      <td>0</td>\n",
              "      <td>0</td>\n",
              "      <td>1</td>\n",
              "    </tr>\n",
              "  </tbody>\n",
              "</table>\n",
              "<p>96849 rows × 28 columns</p>\n",
              "</div>\n",
              "      <button class=\"colab-df-convert\" onclick=\"convertToInteractive('df-d6ed76ab-d5f1-44a5-83e2-6c7af919213c')\"\n",
              "              title=\"Convert this dataframe to an interactive table.\"\n",
              "              style=\"display:none;\">\n",
              "        \n",
              "  <svg xmlns=\"http://www.w3.org/2000/svg\" height=\"24px\"viewBox=\"0 0 24 24\"\n",
              "       width=\"24px\">\n",
              "    <path d=\"M0 0h24v24H0V0z\" fill=\"none\"/>\n",
              "    <path d=\"M18.56 5.44l.94 2.06.94-2.06 2.06-.94-2.06-.94-.94-2.06-.94 2.06-2.06.94zm-11 1L8.5 8.5l.94-2.06 2.06-.94-2.06-.94L8.5 2.5l-.94 2.06-2.06.94zm10 10l.94 2.06.94-2.06 2.06-.94-2.06-.94-.94-2.06-.94 2.06-2.06.94z\"/><path d=\"M17.41 7.96l-1.37-1.37c-.4-.4-.92-.59-1.43-.59-.52 0-1.04.2-1.43.59L10.3 9.45l-7.72 7.72c-.78.78-.78 2.05 0 2.83L4 21.41c.39.39.9.59 1.41.59.51 0 1.02-.2 1.41-.59l7.78-7.78 2.81-2.81c.8-.78.8-2.07 0-2.86zM5.41 20L4 18.59l7.72-7.72 1.47 1.35L5.41 20z\"/>\n",
              "  </svg>\n",
              "      </button>\n",
              "      \n",
              "  <style>\n",
              "    .colab-df-container {\n",
              "      display:flex;\n",
              "      flex-wrap:wrap;\n",
              "      gap: 12px;\n",
              "    }\n",
              "\n",
              "    .colab-df-convert {\n",
              "      background-color: #E8F0FE;\n",
              "      border: none;\n",
              "      border-radius: 50%;\n",
              "      cursor: pointer;\n",
              "      display: none;\n",
              "      fill: #1967D2;\n",
              "      height: 32px;\n",
              "      padding: 0 0 0 0;\n",
              "      width: 32px;\n",
              "    }\n",
              "\n",
              "    .colab-df-convert:hover {\n",
              "      background-color: #E2EBFA;\n",
              "      box-shadow: 0px 1px 2px rgba(60, 64, 67, 0.3), 0px 1px 3px 1px rgba(60, 64, 67, 0.15);\n",
              "      fill: #174EA6;\n",
              "    }\n",
              "\n",
              "    [theme=dark] .colab-df-convert {\n",
              "      background-color: #3B4455;\n",
              "      fill: #D2E3FC;\n",
              "    }\n",
              "\n",
              "    [theme=dark] .colab-df-convert:hover {\n",
              "      background-color: #434B5C;\n",
              "      box-shadow: 0px 1px 3px 1px rgba(0, 0, 0, 0.15);\n",
              "      filter: drop-shadow(0px 1px 2px rgba(0, 0, 0, 0.3));\n",
              "      fill: #FFFFFF;\n",
              "    }\n",
              "  </style>\n",
              "\n",
              "      <script>\n",
              "        const buttonEl =\n",
              "          document.querySelector('#df-d6ed76ab-d5f1-44a5-83e2-6c7af919213c button.colab-df-convert');\n",
              "        buttonEl.style.display =\n",
              "          google.colab.kernel.accessAllowed ? 'block' : 'none';\n",
              "\n",
              "        async function convertToInteractive(key) {\n",
              "          const element = document.querySelector('#df-d6ed76ab-d5f1-44a5-83e2-6c7af919213c');\n",
              "          const dataTable =\n",
              "            await google.colab.kernel.invokeFunction('convertToInteractive',\n",
              "                                                     [key], {});\n",
              "          if (!dataTable) return;\n",
              "\n",
              "          const docLinkHtml = 'Like what you see? Visit the ' +\n",
              "            '<a target=\"_blank\" href=https://colab.research.google.com/notebooks/data_table.ipynb>data table notebook</a>'\n",
              "            + ' to learn more about interactive tables.';\n",
              "          element.innerHTML = '';\n",
              "          dataTable['output_type'] = 'display_data';\n",
              "          await google.colab.output.renderOutput(dataTable, element);\n",
              "          const docLink = document.createElement('div');\n",
              "          docLink.innerHTML = docLinkHtml;\n",
              "          element.appendChild(docLink);\n",
              "        }\n",
              "      </script>\n",
              "    </div>\n",
              "  </div>\n",
              "  "
            ]
          },
          "metadata": {},
          "execution_count": 16
        }
      ],
      "source": [
        "pd_enceinte"
      ]
    },
    {
      "cell_type": "markdown",
      "id": "25c10104",
      "metadata": {
        "id": "25c10104"
      },
      "source": [
        "### MODEL"
      ]
    },
    {
      "cell_type": "code",
      "execution_count": null,
      "id": "62f50713",
      "metadata": {
        "id": "62f50713"
      },
      "outputs": [],
      "source": [
        "# Import pour la modelisation\n",
        "from sklearn.preprocessing import MinMaxScaler\n",
        "from sklearn.model_selection import train_test_split\n",
        "from sklearn.preprocessing import StandardScaler\n",
        "# Models\n",
        "from sklearn.ensemble import RandomForestClassifier\n",
        "from sklearn.ensemble import BaggingClassifier\n",
        "from sklearn.naive_bayes import GaussianNB\n",
        "from sklearn.neighbors import KNeighborsClassifier\n",
        "from sklearn import svm\n",
        "from sklearn.linear_model import LogisticRegression\n",
        "from sklearn.ensemble import GradientBoostingRegressor\n",
        "from sklearn.tree import DecisionTreeRegressor\n",
        "from sklearn.pipeline import Pipeline\n",
        "from sklearn.model_selection import GridSearchCV\n",
        "from sklearn.model_selection import cross_val_score\n",
        "from sklearn.metrics import confusion_matrix\n",
        "from sklearn.model_selection import KFold\n",
        "from sklearn.metrics import classification_report\n",
        "# depreciated\n",
        "from sklearn.metrics import plot_confusion_matrix\n",
        "from sklearn.metrics import accuracy_score\n",
        "from sklearn.metrics import ConfusionMatrixDisplay"
      ]
    },
    {
      "cell_type": "code",
      "execution_count": null,
      "id": "e596ad4e",
      "metadata": {
        "id": "e596ad4e"
      },
      "outputs": [],
      "source": [
        "df_target = pd_enceinte[\"COST\"]\n",
        "\n",
        "df_features = pd_enceinte.drop([\"COST\"], axis = 1 )"
      ]
    },
    {
      "cell_type": "code",
      "execution_count": null,
      "id": "980f3197",
      "metadata": {
        "id": "980f3197"
      },
      "outputs": [],
      "source": [
        "# Separtion train test validation\n",
        "x_train, x_test, y_train , y_test = train_test_split( df_features, df_target,  test_size=0.2, random_state=3 )"
      ]
    },
    {
      "cell_type": "code",
      "execution_count": null,
      "id": "4d7f7204",
      "metadata": {
        "id": "4d7f7204"
      },
      "outputs": [],
      "source": [
        "# Normalisation des données\n",
        "# standard scaler en excluant les columns à ne pas normaliser ! ex: gender\n",
        "# Attention les echelles sont peut etre pas les memes entre le train et le test\n",
        "# car les moyennes des deux sets sont differentes ! Standardiser par des moyennes differentes changerait les données !\n",
        "# Donc on standardise par un scaler commun: ici celui du x_train\n",
        "scaler = StandardScaler()\n",
        "scaler.fit(x_train)\n",
        "x_train = scaler.transform(x_train)\n",
        "x_test = scaler.transform(x_test)\n"
      ]
    },
    {
      "cell_type": "code",
      "execution_count": null,
      "id": "223e67d6",
      "metadata": {
        "id": "223e67d6",
        "colab": {
          "base_uri": "https://localhost:8080/"
        },
        "outputId": "132340ab-c224-49df-9a84-6a5ea348f468"
      },
      "outputs": [
        {
          "output_type": "stream",
          "name": "stderr",
          "text": [
            "/usr/local/lib/python3.7/dist-packages/sklearn/model_selection/_split.py:680: UserWarning: The least populated class in y has only 1 members, which is less than n_splits=5.\n",
            "  UserWarning,\n"
          ]
        }
      ],
      "source": [
        "# Random forest\n",
        "# Parametres issus de l'etape optimisation\n",
        "#from sklearn.ensemble import RandomForestRegressor\n",
        "from sklearn.ensemble import GradientBoostingClassifier\n",
        "clf = GradientBoostingClassifier()\n",
        "\n",
        "# CrossValidation\n",
        "# La crossvalidation effectue les prédictions sur les autres kfolds\n",
        "\n",
        "clf_cv_score = cross_val_score(clf, x_train, y_train, cv=5)\n",
        "\n",
        "# Entrainement\n",
        "clf.fit(x_train, y_train)\n",
        "\n",
        "# Prediction\n",
        "y_pred = clf.predict(x_test)\n"
      ]
    },
    {
      "cell_type": "code",
      "execution_count": null,
      "id": "2faf7d86",
      "metadata": {
        "id": "2faf7d86"
      },
      "outputs": [],
      "source": [
        "import numpy as np\n",
        "def MAPE(Y_actual,Y_Predicted):\n",
        "    mape = np.mean(np.abs((Y_actual - Y_Predicted)/Y_actual))*100\n",
        "    return mape\n",
        "MAPE(y_test,y_pred)"
      ]
    },
    {
      "cell_type": "raw",
      "id": "7c0fcfd2",
      "metadata": {
        "id": "7c0fcfd2"
      },
      "source": [
        "robust: 7.26\n",
        "minmax:  7.27"
      ]
    }
  ],
  "metadata": {
    "kernelspec": {
      "display_name": "Python 3",
      "language": "python",
      "name": "python3"
    },
    "language_info": {
      "codemirror_mode": {
        "name": "ipython",
        "version": 3
      },
      "file_extension": ".py",
      "mimetype": "text/x-python",
      "name": "python",
      "nbconvert_exporter": "python",
      "pygments_lexer": "ipython3",
      "version": "3.7.4"
    },
    "colab": {
      "provenance": []
    }
  },
  "nbformat": 4,
  "nbformat_minor": 5
}